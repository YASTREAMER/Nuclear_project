{
 "cells": [
  {
   "cell_type": "code",
   "execution_count": 64,
   "id": "ab8b90b2",
   "metadata": {},
   "outputs": [],
   "source": [
    "import pandas as pd\n",
    "import numpy as np\n",
    "import matplotlib.pyplot as plt\n",
    "\n",
    "from sklearn.linear_model import LinearRegression\n",
    "from sklearn.model_selection import train_test_split\n",
    "from xgboost import XGBRFRegressor\n",
    "# The library we need to build the model\n",
    "\n",
    "from sklearn.metrics import mean_squared_error\n",
    "from sklearn.metrics import mean_absolute_error\n",
    "from sklearn.metrics import accuracy_score\n",
    "from sklearn.preprocessing import MinMaxScaler\n",
    "# These are the library we need for model evalulation\n",
    "\n",
    "import joblib\n",
    "from sklearn.pipeline import Pipeline\n",
    "# Library to export and build the model\n",
    "\n",
    "%matplotlib inline"
   ]
  },
  {
   "cell_type": "code",
   "execution_count": 12,
   "id": "8bff6cf2",
   "metadata": {},
   "outputs": [
    {
     "data": {
      "text/html": [
       "<div>\n",
       "<style scoped>\n",
       "    .dataframe tbody tr th:only-of-type {\n",
       "        vertical-align: middle;\n",
       "    }\n",
       "\n",
       "    .dataframe tbody tr th {\n",
       "        vertical-align: top;\n",
       "    }\n",
       "\n",
       "    .dataframe thead th {\n",
       "        text-align: right;\n",
       "    }\n",
       "</style>\n",
       "<table border=\"1\" class=\"dataframe\">\n",
       "  <thead>\n",
       "    <tr style=\"text-align: right;\">\n",
       "      <th></th>\n",
       "      <th>Energy Theo</th>\n",
       "      <th>Energy Expt</th>\n",
       "      <th>Log ft theo</th>\n",
       "      <th>Log ft expt</th>\n",
       "    </tr>\n",
       "  </thead>\n",
       "  <tbody>\n",
       "    <tr>\n",
       "      <th>0</th>\n",
       "      <td>1306</td>\n",
       "      <td>1636</td>\n",
       "      <td>4.309</td>\n",
       "      <td>5.07</td>\n",
       "    </tr>\n",
       "    <tr>\n",
       "      <th>1</th>\n",
       "      <td>2606</td>\n",
       "      <td>4266</td>\n",
       "      <td>4.997</td>\n",
       "      <td>5.80</td>\n",
       "    </tr>\n",
       "    <tr>\n",
       "      <th>2</th>\n",
       "      <td>0</td>\n",
       "      <td>247</td>\n",
       "      <td>3.921</td>\n",
       "      <td>4.25</td>\n",
       "    </tr>\n",
       "    <tr>\n",
       "      <th>3</th>\n",
       "      <td>2452</td>\n",
       "      <td>2497</td>\n",
       "      <td>5.173</td>\n",
       "      <td>5.30</td>\n",
       "    </tr>\n",
       "    <tr>\n",
       "      <th>4</th>\n",
       "      <td>1285</td>\n",
       "      <td>1495</td>\n",
       "      <td>5.731</td>\n",
       "      <td>5.70</td>\n",
       "    </tr>\n",
       "    <tr>\n",
       "      <th>...</th>\n",
       "      <td>...</td>\n",
       "      <td>...</td>\n",
       "      <td>...</td>\n",
       "      <td>...</td>\n",
       "    </tr>\n",
       "    <tr>\n",
       "      <th>68</th>\n",
       "      <td>3105</td>\n",
       "      <td>3020</td>\n",
       "      <td>6.788</td>\n",
       "      <td>5.50</td>\n",
       "    </tr>\n",
       "    <tr>\n",
       "      <th>69</th>\n",
       "      <td>617</td>\n",
       "      <td>686</td>\n",
       "      <td>3.746</td>\n",
       "      <td>5.60</td>\n",
       "    </tr>\n",
       "    <tr>\n",
       "      <th>70</th>\n",
       "      <td>844</td>\n",
       "      <td>965</td>\n",
       "      <td>4.202</td>\n",
       "      <td>5.20</td>\n",
       "    </tr>\n",
       "    <tr>\n",
       "      <th>71</th>\n",
       "      <td>1487</td>\n",
       "      <td>1504</td>\n",
       "      <td>5.444</td>\n",
       "      <td>5.60</td>\n",
       "    </tr>\n",
       "    <tr>\n",
       "      <th>72</th>\n",
       "      <td>1674</td>\n",
       "      <td>1504</td>\n",
       "      <td>7.551</td>\n",
       "      <td>4.50</td>\n",
       "    </tr>\n",
       "  </tbody>\n",
       "</table>\n",
       "<p>73 rows × 4 columns</p>\n",
       "</div>"
      ],
      "text/plain": [
       "    Energy Theo  Energy Expt  Log ft theo  Log ft expt\n",
       "0          1306         1636        4.309         5.07\n",
       "1          2606         4266        4.997         5.80\n",
       "2             0          247        3.921         4.25\n",
       "3          2452         2497        5.173         5.30\n",
       "4          1285         1495        5.731         5.70\n",
       "..          ...          ...          ...          ...\n",
       "68         3105         3020        6.788         5.50\n",
       "69          617          686        3.746         5.60\n",
       "70          844          965        4.202         5.20\n",
       "71         1487         1504        5.444         5.60\n",
       "72         1674         1504        7.551         4.50\n",
       "\n",
       "[73 rows x 4 columns]"
      ]
     },
     "execution_count": 12,
     "metadata": {},
     "output_type": "execute_result"
    }
   ],
   "source": [
    "df=pd.read_csv('/home/yash/Data/kaggle_data/Nuclear data.csv')\n",
    "df\n",
    "#Imported the dataset which contained the data point "
   ]
  },
  {
   "cell_type": "code",
   "execution_count": 14,
   "id": "061c08c4",
   "metadata": {},
   "outputs": [
    {
     "data": {
      "text/plain": [
       "Text(0, 0.5, 'Theoretical Energy')"
      ]
     },
     "execution_count": 14,
     "metadata": {},
     "output_type": "execute_result"
    },
    {
     "data": {
      "image/png": "[encoded data removed]",
      "text/plain": [
       "<Figure size 640x480 with 1 Axes>"
      ]
     },
     "metadata": {},
     "output_type": "display_data"
    }
   ],
   "source": [
    "plt.scatter(df['Energy Expt'],df['Energy Theo'])\n",
    "plt.xlabel('Expected Energy')\n",
    "plt.ylabel('Theoretical Energy')\n",
    "#This is the scatter plot of the data point that we have to work with"
   ]
  },
  {
   "cell_type": "code",
   "execution_count": 15,
   "id": "3b66f4a7",
   "metadata": {},
   "outputs": [
    {
     "data": {
      "text/plain": [
       "Text(0, 0.5, 'Theoretical Energy')"
      ]
     },
     "execution_count": 15,
     "metadata": {},
     "output_type": "execute_result"
    },
    {
     "data": {
      "image/png": "[encoded data removed]",
      "text/plain": [
       "<Figure size 640x480 with 1 Axes>"
      ]
     },
     "metadata": {},
     "output_type": "display_data"
    }
   ],
   "source": [
    "plt.scatter(df['Log ft expt'],df['Log ft theo'])\n",
    "plt.xlabel('Expected Energy')\n",
    "plt.ylabel('Theoretical Energy')\n",
    "#This is the scatter plot of the data point that we have to work with"
   ]
  },
  {
   "cell_type": "code",
   "execution_count": 16,
   "id": "20389d90",
   "metadata": {},
   "outputs": [],
   "source": [
    "lin=LinearRegression()\n",
    "lin_log_ft=LinearRegression()"
   ]
  },
  {
   "cell_type": "code",
   "execution_count": 17,
   "id": "30945109",
   "metadata": {},
   "outputs": [
    {
     "data": {
      "text/html": [
       "<style>#sk-container-id-1 {color: black;}#sk-container-id-1 pre{padding: 0;}#sk-container-id-1 div.sk-toggleable {background-color: white;}#sk-container-id-1 label.sk-toggleable__label {cursor: pointer;display: block;width: 100%;margin-bottom: 0;padding: 0.3em;box-sizing: border-box;text-align: center;}#sk-container-id-1 label.sk-toggleable__label-arrow:before {content: \"▸\";float: left;margin-right: 0.25em;color: #696969;}#sk-container-id-1 label.sk-toggleable__label-arrow:hover:before {color: black;}#sk-container-id-1 div.sk-estimator:hover label.sk-toggleable__label-arrow:before {color: black;}#sk-container-id-1 div.sk-toggleable__content {max-height: 0;max-width: 0;overflow: hidden;text-align: left;background-color: #f0f8ff;}#sk-container-id-1 div.sk-toggleable__content pre {margin: 0.2em;color: black;border-radius: 0.25em;background-color: #f0f8ff;}#sk-container-id-1 input.sk-toggleable__control:checked~div.sk-toggleable__content {max-height: 200px;max-width: 100%;overflow: auto;}#sk-container-id-1 input.sk-toggleable__control:checked~label.sk-toggleable__label-arrow:before {content: \"▾\";}#sk-container-id-1 div.sk-estimator input.sk-toggleable__control:checked~label.sk-toggleable__label {background-color: #d4ebff;}#sk-container-id-1 div.sk-label input.sk-toggleable__control:checked~label.sk-toggleable__label {background-color: #d4ebff;}#sk-container-id-1 input.sk-hidden--visually {border: 0;clip: rect(1px 1px 1px 1px);clip: rect(1px, 1px, 1px, 1px);height: 1px;margin: -1px;overflow: hidden;padding: 0;position: absolute;width: 1px;}#sk-container-id-1 div.sk-estimator {font-family: monospace;background-color: #f0f8ff;border: 1px dotted black;border-radius: 0.25em;box-sizing: border-box;margin-bottom: 0.5em;}#sk-container-id-1 div.sk-estimator:hover {background-color: #d4ebff;}#sk-container-id-1 div.sk-parallel-item::after {content: \"\";width: 100%;border-bottom: 1px solid gray;flex-grow: 1;}#sk-container-id-1 div.sk-label:hover label.sk-toggleable__label {background-color: #d4ebff;}#sk-container-id-1 div.sk-serial::before {content: \"\";position: absolute;border-left: 1px solid gray;box-sizing: border-box;top: 0;bottom: 0;left: 50%;z-index: 0;}#sk-container-id-1 div.sk-serial {display: flex;flex-direction: column;align-items: center;background-color: white;padding-right: 0.2em;padding-left: 0.2em;position: relative;}#sk-container-id-1 div.sk-item {position: relative;z-index: 1;}#sk-container-id-1 div.sk-parallel {display: flex;align-items: stretch;justify-content: center;background-color: white;position: relative;}#sk-container-id-1 div.sk-item::before, #sk-container-id-1 div.sk-parallel-item::before {content: \"\";position: absolute;border-left: 1px solid gray;box-sizing: border-box;top: 0;bottom: 0;left: 50%;z-index: -1;}#sk-container-id-1 div.sk-parallel-item {display: flex;flex-direction: column;z-index: 1;position: relative;background-color: white;}#sk-container-id-1 div.sk-parallel-item:first-child::after {align-self: flex-end;width: 50%;}#sk-container-id-1 div.sk-parallel-item:last-child::after {align-self: flex-start;width: 50%;}#sk-container-id-1 div.sk-parallel-item:only-child::after {width: 0;}#sk-container-id-1 div.sk-dashed-wrapped {border: 1px dashed gray;margin: 0 0.4em 0.5em 0.4em;box-sizing: border-box;padding-bottom: 0.4em;background-color: white;}#sk-container-id-1 div.sk-label label {font-family: monospace;font-weight: bold;display: inline-block;line-height: 1.2em;}#sk-container-id-1 div.sk-label-container {text-align: center;}#sk-container-id-1 div.sk-container {/* jupyter's `normalize.less` sets `[hidden] { display: none; }` but bootstrap.min.css set `[hidden] { display: none !important; }` so we also need the `!important` here to be able to override the default hidden behavior on the sphinx rendered scikit-learn.org. See: https://github.com/scikit-learn/scikit-learn/issues/21755 */display: inline-block !important;position: relative;}#sk-container-id-1 div.sk-text-repr-fallback {display: none;}</style><div id=\"sk-container-id-1\" class=\"sk-top-container\"><div class=\"sk-text-repr-fallback\"><pre>LinearRegression()</pre><b>In a Jupyter environment, please rerun this cell to show the HTML representation or trust the notebook. <br />On GitHub, the HTML representation is unable to render, please try loading this page with nbviewer.org.</b></div><div class=\"sk-container\" hidden><div class=\"sk-item\"><div class=\"sk-estimator sk-toggleable\"><input class=\"sk-toggleable__control sk-hidden--visually\" id=\"sk-estimator-id-1\" type=\"checkbox\" checked><label for=\"sk-estimator-id-1\" class=\"sk-toggleable__label sk-toggleable__label-arrow\">LinearRegression</label><div class=\"sk-toggleable__content\"><pre>LinearRegression()</pre></div></div></div></div></div>"
      ],
      "text/plain": [
       "LinearRegression()"
      ]
     },
     "execution_count": 17,
     "metadata": {},
     "output_type": "execute_result"
    }
   ],
   "source": [
    "lin.fit(df[['Energy Expt']],df[['Energy Theo']])"
   ]
  },
  {
   "cell_type": "code",
   "execution_count": 18,
   "id": "a8c840e8",
   "metadata": {},
   "outputs": [],
   "source": [
    "slope_energy=lin.coef_#slope of the best fit line \n",
    "\n",
    "intercep_energy=lin.intercept_#y intercept of the best fit line "
   ]
  },
  {
   "cell_type": "code",
   "execution_count": 19,
   "id": "f12f33fb",
   "metadata": {},
   "outputs": [
    {
     "data": {
      "text/plain": [
       "Text(0, 0.5, 'Theoretical Energy')"
      ]
     },
     "execution_count": 19,
     "metadata": {},
     "output_type": "execute_result"
    },
    {
     "data": {
      "image/png": "[encoded data removed]",
      "text/plain": [
       "<Figure size 640x480 with 1 Axes>"
      ]
     },
     "metadata": {},
     "output_type": "display_data"
    }
   ],
   "source": [
    "plt.scatter(df['Energy Expt'],df['Energy Theo'])\n",
    "plt.rcParams[\"figure.autolayout\"] = True\n",
    "\n",
    "plt.plot(df['Energy Expt'],lin.predict(df[['Energy Expt']]),color='red',label='best fit line')\n",
    "#Ploting the best fit line for the energy value\n",
    "\n",
    "leg = plt.legend(loc='upper center')\n",
    "plt.xlabel('Expected Energy')\n",
    "plt.ylabel('Theoretical Energy')\n",
    "#print the legend of the graph"
   ]
  },
  {
   "cell_type": "code",
   "execution_count": 20,
   "id": "b94c4cbb",
   "metadata": {},
   "outputs": [
    {
     "name": "stdout",
     "output_type": "stream",
     "text": [
      "slope:[[0.86748487]] y intercept:[124.14519704]\n"
     ]
    }
   ],
   "source": [
    "print('slope:{} y intercept:{}'.format(slope_energy,intercep_energy))"
   ]
  },
  {
   "cell_type": "markdown",
   "id": "d18e603f",
   "metadata": {},
   "source": [
    "## Things left to do\n",
    "### 1) Average error in the slope \n",
    "### 2) Putting in the log ft value \n",
    "### 3) Calculating the R(GT) value "
   ]
  },
  {
   "cell_type": "code",
   "execution_count": 21,
   "id": "a297a751",
   "metadata": {},
   "outputs": [
    {
     "data": {
      "text/html": [
       "<style>#sk-container-id-2 {color: black;}#sk-container-id-2 pre{padding: 0;}#sk-container-id-2 div.sk-toggleable {background-color: white;}#sk-container-id-2 label.sk-toggleable__label {cursor: pointer;display: block;width: 100%;margin-bottom: 0;padding: 0.3em;box-sizing: border-box;text-align: center;}#sk-container-id-2 label.sk-toggleable__label-arrow:before {content: \"▸\";float: left;margin-right: 0.25em;color: #696969;}#sk-container-id-2 label.sk-toggleable__label-arrow:hover:before {color: black;}#sk-container-id-2 div.sk-estimator:hover label.sk-toggleable__label-arrow:before {color: black;}#sk-container-id-2 div.sk-toggleable__content {max-height: 0;max-width: 0;overflow: hidden;text-align: left;background-color: #f0f8ff;}#sk-container-id-2 div.sk-toggleable__content pre {margin: 0.2em;color: black;border-radius: 0.25em;background-color: #f0f8ff;}#sk-container-id-2 input.sk-toggleable__control:checked~div.sk-toggleable__content {max-height: 200px;max-width: 100%;overflow: auto;}#sk-container-id-2 input.sk-toggleable__control:checked~label.sk-toggleable__label-arrow:before {content: \"▾\";}#sk-container-id-2 div.sk-estimator input.sk-toggleable__control:checked~label.sk-toggleable__label {background-color: #d4ebff;}#sk-container-id-2 div.sk-label input.sk-toggleable__control:checked~label.sk-toggleable__label {background-color: #d4ebff;}#sk-container-id-2 input.sk-hidden--visually {border: 0;clip: rect(1px 1px 1px 1px);clip: rect(1px, 1px, 1px, 1px);height: 1px;margin: -1px;overflow: hidden;padding: 0;position: absolute;width: 1px;}#sk-container-id-2 div.sk-estimator {font-family: monospace;background-color: #f0f8ff;border: 1px dotted black;border-radius: 0.25em;box-sizing: border-box;margin-bottom: 0.5em;}#sk-container-id-2 div.sk-estimator:hover {background-color: #d4ebff;}#sk-container-id-2 div.sk-parallel-item::after {content: \"\";width: 100%;border-bottom: 1px solid gray;flex-grow: 1;}#sk-container-id-2 div.sk-label:hover label.sk-toggleable__label {background-color: #d4ebff;}#sk-container-id-2 div.sk-serial::before {content: \"\";position: absolute;border-left: 1px solid gray;box-sizing: border-box;top: 0;bottom: 0;left: 50%;z-index: 0;}#sk-container-id-2 div.sk-serial {display: flex;flex-direction: column;align-items: center;background-color: white;padding-right: 0.2em;padding-left: 0.2em;position: relative;}#sk-container-id-2 div.sk-item {position: relative;z-index: 1;}#sk-container-id-2 div.sk-parallel {display: flex;align-items: stretch;justify-content: center;background-color: white;position: relative;}#sk-container-id-2 div.sk-item::before, #sk-container-id-2 div.sk-parallel-item::before {content: \"\";position: absolute;border-left: 1px solid gray;box-sizing: border-box;top: 0;bottom: 0;left: 50%;z-index: -1;}#sk-container-id-2 div.sk-parallel-item {display: flex;flex-direction: column;z-index: 1;position: relative;background-color: white;}#sk-container-id-2 div.sk-parallel-item:first-child::after {align-self: flex-end;width: 50%;}#sk-container-id-2 div.sk-parallel-item:last-child::after {align-self: flex-start;width: 50%;}#sk-container-id-2 div.sk-parallel-item:only-child::after {width: 0;}#sk-container-id-2 div.sk-dashed-wrapped {border: 1px dashed gray;margin: 0 0.4em 0.5em 0.4em;box-sizing: border-box;padding-bottom: 0.4em;background-color: white;}#sk-container-id-2 div.sk-label label {font-family: monospace;font-weight: bold;display: inline-block;line-height: 1.2em;}#sk-container-id-2 div.sk-label-container {text-align: center;}#sk-container-id-2 div.sk-container {/* jupyter's `normalize.less` sets `[hidden] { display: none; }` but bootstrap.min.css set `[hidden] { display: none !important; }` so we also need the `!important` here to be able to override the default hidden behavior on the sphinx rendered scikit-learn.org. See: https://github.com/scikit-learn/scikit-learn/issues/21755 */display: inline-block !important;position: relative;}#sk-container-id-2 div.sk-text-repr-fallback {display: none;}</style><div id=\"sk-container-id-2\" class=\"sk-top-container\"><div class=\"sk-text-repr-fallback\"><pre>LinearRegression()</pre><b>In a Jupyter environment, please rerun this cell to show the HTML representation or trust the notebook. <br />On GitHub, the HTML representation is unable to render, please try loading this page with nbviewer.org.</b></div><div class=\"sk-container\" hidden><div class=\"sk-item\"><div class=\"sk-estimator sk-toggleable\"><input class=\"sk-toggleable__control sk-hidden--visually\" id=\"sk-estimator-id-2\" type=\"checkbox\" checked><label for=\"sk-estimator-id-2\" class=\"sk-toggleable__label sk-toggleable__label-arrow\">LinearRegression</label><div class=\"sk-toggleable__content\"><pre>LinearRegression()</pre></div></div></div></div></div>"
      ],
      "text/plain": [
       "LinearRegression()"
      ]
     },
     "execution_count": 21,
     "metadata": {},
     "output_type": "execute_result"
    }
   ],
   "source": [
    "lin_log_ft.fit(df[['Log ft expt']],df[['Log ft theo']])"
   ]
  },
  {
   "cell_type": "code",
   "execution_count": 22,
   "id": "b88dba8a",
   "metadata": {},
   "outputs": [
    {
     "data": {
      "text/plain": [
       "Text(0, 0.5, 'Theoretical Energy')"
      ]
     },
     "execution_count": 22,
     "metadata": {},
     "output_type": "execute_result"
    },
    {
     "data": {
      "image/png": "[encoded data removed]",
      "text/plain": [
       "<Figure size 640x480 with 1 Axes>"
      ]
     },
     "metadata": {},
     "output_type": "display_data"
    }
   ],
   "source": [
    "plt.scatter(df['Log ft expt'],df['Log ft theo'])\n",
    "plt.rcParams[\"figure.autolayout\"] = True\n",
    "\n",
    "plt.plot(df['Log ft expt'],lin_log_ft.predict(df[['Log ft expt']]),color='red',label='best fit line')\n",
    "#Ploting the best fit line for the energy value\n",
    "\n",
    "leg = plt.legend(loc='upper center')\n",
    "plt.xlabel('Expected Energy')\n",
    "plt.ylabel('Theoretical Energy')\n",
    "#print the legend of the graph"
   ]
  },
  {
   "cell_type": "code",
   "execution_count": 23,
   "id": "2a56a6d1",
   "metadata": {},
   "outputs": [
    {
     "data": {
      "text/html": [
       "<div>\n",
       "<style scoped>\n",
       "    .dataframe tbody tr th:only-of-type {\n",
       "        vertical-align: middle;\n",
       "    }\n",
       "\n",
       "    .dataframe tbody tr th {\n",
       "        vertical-align: top;\n",
       "    }\n",
       "\n",
       "    .dataframe thead th {\n",
       "        text-align: right;\n",
       "    }\n",
       "</style>\n",
       "<table border=\"1\" class=\"dataframe\">\n",
       "  <thead>\n",
       "    <tr style=\"text-align: right;\">\n",
       "      <th></th>\n",
       "      <th>RGT Expt</th>\n",
       "      <th>RGT Theo</th>\n",
       "    </tr>\n",
       "  </thead>\n",
       "  <tbody>\n",
       "    <tr>\n",
       "      <th>0</th>\n",
       "      <td>0.536584</td>\n",
       "      <td>0.519625</td>\n",
       "    </tr>\n",
       "    <tr>\n",
       "      <th>1</th>\n",
       "      <td>0.034761</td>\n",
       "      <td>0.599895</td>\n",
       "    </tr>\n",
       "    <tr>\n",
       "      <th>2</th>\n",
       "      <td>0.086315</td>\n",
       "      <td>0.095568</td>\n",
       "    </tr>\n",
       "    <tr>\n",
       "      <th>3</th>\n",
       "      <td>0.092489</td>\n",
       "      <td>0.110448</td>\n",
       "    </tr>\n",
       "    <tr>\n",
       "      <th>4</th>\n",
       "      <td>0.041313</td>\n",
       "      <td>0.068579</td>\n",
       "    </tr>\n",
       "    <tr>\n",
       "      <th>...</th>\n",
       "      <td>...</td>\n",
       "      <td>...</td>\n",
       "    </tr>\n",
       "    <tr>\n",
       "      <th>83</th>\n",
       "      <td>0.037206</td>\n",
       "      <td>0.025097</td>\n",
       "    </tr>\n",
       "    <tr>\n",
       "      <th>84</th>\n",
       "      <td>0.005504</td>\n",
       "      <td>0.017145</td>\n",
       "    </tr>\n",
       "    <tr>\n",
       "      <th>85</th>\n",
       "      <td>0.002357</td>\n",
       "      <td>0.003741</td>\n",
       "    </tr>\n",
       "    <tr>\n",
       "      <th>86</th>\n",
       "      <td>0.007160</td>\n",
       "      <td>0.007599</td>\n",
       "    </tr>\n",
       "    <tr>\n",
       "      <th>87</th>\n",
       "      <td>0.002065</td>\n",
       "      <td>0.008873</td>\n",
       "    </tr>\n",
       "  </tbody>\n",
       "</table>\n",
       "<p>88 rows × 2 columns</p>\n",
       "</div>"
      ],
      "text/plain": [
       "    RGT Expt  RGT Theo\n",
       "0   0.536584  0.519625\n",
       "1   0.034761  0.599895\n",
       "2   0.086315  0.095568\n",
       "3   0.092489  0.110448\n",
       "4   0.041313  0.068579\n",
       "..       ...       ...\n",
       "83  0.037206  0.025097\n",
       "84  0.005504  0.017145\n",
       "85  0.002357  0.003741\n",
       "86  0.007160  0.007599\n",
       "87  0.002065  0.008873\n",
       "\n",
       "[88 rows x 2 columns]"
      ]
     },
     "execution_count": 23,
     "metadata": {},
     "output_type": "execute_result"
    }
   ],
   "source": [
    "df_test=pd.read_csv('/home/yash/Data//kaggle_data/Nuclear data_test.csv')\n",
    "df_test"
   ]
  },
  {
   "cell_type": "code",
   "execution_count": 24,
   "id": "8db6ded2",
   "metadata": {},
   "outputs": [
    {
     "data": {
      "text/plain": [
       "Text(0, 0.5, 'Theoretical Energy')"
      ]
     },
     "execution_count": 24,
     "metadata": {},
     "output_type": "execute_result"
    },
    {
     "data": {
      "image/png": "[encoded data removed]",
      "text/plain": [
       "<Figure size 640x480 with 1 Axes>"
      ]
     },
     "metadata": {},
     "output_type": "display_data"
    }
   ],
   "source": [
    "plt.scatter(df_test['RGT Expt'],df_test['RGT Theo'])\n",
    "plt.xlabel('Expected Energy')\n",
    "plt.ylabel('Theoretical Energy')\n",
    "#slope =0.069+-0.020\n",
    "#This is the scatter plot of the data point that we have to work with"
   ]
  },
  {
   "cell_type": "code",
   "execution_count": 25,
   "id": "b6374951",
   "metadata": {},
   "outputs": [],
   "source": [
    "Linear_regression_RGT=LinearRegression()"
   ]
  },
  {
   "cell_type": "code",
   "execution_count": 26,
   "id": "03d8bf43",
   "metadata": {},
   "outputs": [],
   "source": [
    "Xtrain,Xtest,Ytrain,Ytest = train_test_split(df_test[['RGT Theo']],df_test[['RGT Expt']],test_size=0.40)"
   ]
  },
  {
   "cell_type": "code",
   "execution_count": 27,
   "id": "038110b9",
   "metadata": {},
   "outputs": [
    {
     "data": {
      "text/html": [
       "<style>#sk-container-id-3 {color: black;}#sk-container-id-3 pre{padding: 0;}#sk-container-id-3 div.sk-toggleable {background-color: white;}#sk-container-id-3 label.sk-toggleable__label {cursor: pointer;display: block;width: 100%;margin-bottom: 0;padding: 0.3em;box-sizing: border-box;text-align: center;}#sk-container-id-3 label.sk-toggleable__label-arrow:before {content: \"▸\";float: left;margin-right: 0.25em;color: #696969;}#sk-container-id-3 label.sk-toggleable__label-arrow:hover:before {color: black;}#sk-container-id-3 div.sk-estimator:hover label.sk-toggleable__label-arrow:before {color: black;}#sk-container-id-3 div.sk-toggleable__content {max-height: 0;max-width: 0;overflow: hidden;text-align: left;background-color: #f0f8ff;}#sk-container-id-3 div.sk-toggleable__content pre {margin: 0.2em;color: black;border-radius: 0.25em;background-color: #f0f8ff;}#sk-container-id-3 input.sk-toggleable__control:checked~div.sk-toggleable__content {max-height: 200px;max-width: 100%;overflow: auto;}#sk-container-id-3 input.sk-toggleable__control:checked~label.sk-toggleable__label-arrow:before {content: \"▾\";}#sk-container-id-3 div.sk-estimator input.sk-toggleable__control:checked~label.sk-toggleable__label {background-color: #d4ebff;}#sk-container-id-3 div.sk-label input.sk-toggleable__control:checked~label.sk-toggleable__label {background-color: #d4ebff;}#sk-container-id-3 input.sk-hidden--visually {border: 0;clip: rect(1px 1px 1px 1px);clip: rect(1px, 1px, 1px, 1px);height: 1px;margin: -1px;overflow: hidden;padding: 0;position: absolute;width: 1px;}#sk-container-id-3 div.sk-estimator {font-family: monospace;background-color: #f0f8ff;border: 1px dotted black;border-radius: 0.25em;box-sizing: border-box;margin-bottom: 0.5em;}#sk-container-id-3 div.sk-estimator:hover {background-color: #d4ebff;}#sk-container-id-3 div.sk-parallel-item::after {content: \"\";width: 100%;border-bottom: 1px solid gray;flex-grow: 1;}#sk-container-id-3 div.sk-label:hover label.sk-toggleable__label {background-color: #d4ebff;}#sk-container-id-3 div.sk-serial::before {content: \"\";position: absolute;border-left: 1px solid gray;box-sizing: border-box;top: 0;bottom: 0;left: 50%;z-index: 0;}#sk-container-id-3 div.sk-serial {display: flex;flex-direction: column;align-items: center;background-color: white;padding-right: 0.2em;padding-left: 0.2em;position: relative;}#sk-container-id-3 div.sk-item {position: relative;z-index: 1;}#sk-container-id-3 div.sk-parallel {display: flex;align-items: stretch;justify-content: center;background-color: white;position: relative;}#sk-container-id-3 div.sk-item::before, #sk-container-id-3 div.sk-parallel-item::before {content: \"\";position: absolute;border-left: 1px solid gray;box-sizing: border-box;top: 0;bottom: 0;left: 50%;z-index: -1;}#sk-container-id-3 div.sk-parallel-item {display: flex;flex-direction: column;z-index: 1;position: relative;background-color: white;}#sk-container-id-3 div.sk-parallel-item:first-child::after {align-self: flex-end;width: 50%;}#sk-container-id-3 div.sk-parallel-item:last-child::after {align-self: flex-start;width: 50%;}#sk-container-id-3 div.sk-parallel-item:only-child::after {width: 0;}#sk-container-id-3 div.sk-dashed-wrapped {border: 1px dashed gray;margin: 0 0.4em 0.5em 0.4em;box-sizing: border-box;padding-bottom: 0.4em;background-color: white;}#sk-container-id-3 div.sk-label label {font-family: monospace;font-weight: bold;display: inline-block;line-height: 1.2em;}#sk-container-id-3 div.sk-label-container {text-align: center;}#sk-container-id-3 div.sk-container {/* jupyter's `normalize.less` sets `[hidden] { display: none; }` but bootstrap.min.css set `[hidden] { display: none !important; }` so we also need the `!important` here to be able to override the default hidden behavior on the sphinx rendered scikit-learn.org. See: https://github.com/scikit-learn/scikit-learn/issues/21755 */display: inline-block !important;position: relative;}#sk-container-id-3 div.sk-text-repr-fallback {display: none;}</style><div id=\"sk-container-id-3\" class=\"sk-top-container\"><div class=\"sk-text-repr-fallback\"><pre>LinearRegression()</pre><b>In a Jupyter environment, please rerun this cell to show the HTML representation or trust the notebook. <br />On GitHub, the HTML representation is unable to render, please try loading this page with nbviewer.org.</b></div><div class=\"sk-container\" hidden><div class=\"sk-item\"><div class=\"sk-estimator sk-toggleable\"><input class=\"sk-toggleable__control sk-hidden--visually\" id=\"sk-estimator-id-3\" type=\"checkbox\" checked><label for=\"sk-estimator-id-3\" class=\"sk-toggleable__label sk-toggleable__label-arrow\">LinearRegression</label><div class=\"sk-toggleable__content\"><pre>LinearRegression()</pre></div></div></div></div></div>"
      ],
      "text/plain": [
       "LinearRegression()"
      ]
     },
     "execution_count": 27,
     "metadata": {},
     "output_type": "execute_result"
    }
   ],
   "source": [
    "Linear_regression_RGT.fit(Xtrain,Ytrain)"
   ]
  },
  {
   "cell_type": "code",
   "execution_count": 28,
   "id": "d92429bf",
   "metadata": {},
   "outputs": [
    {
     "data": {
      "text/plain": [
       "array([[0.340432]])"
      ]
     },
     "execution_count": 28,
     "metadata": {},
     "output_type": "execute_result"
    }
   ],
   "source": [
    "slope_model=Linear_regression_RGT.coef_\n",
    "slope_model"
   ]
  },
  {
   "cell_type": "code",
   "execution_count": 29,
   "id": "897f2ad5",
   "metadata": {},
   "outputs": [
    {
     "data": {
      "text/plain": [
       "array([0.03731978])"
      ]
     },
     "execution_count": 29,
     "metadata": {},
     "output_type": "execute_result"
    }
   ],
   "source": [
    "intercept_model=Linear_regression_RGT.intercept_\n",
    "intercept_model"
   ]
  },
  {
   "cell_type": "code",
   "execution_count": 30,
   "id": "75fa7ac1",
   "metadata": {},
   "outputs": [
    {
     "data": {
      "text/plain": [
       "<matplotlib.collections.PathCollection at 0x7f8cfb785650>"
      ]
     },
     "execution_count": 30,
     "metadata": {},
     "output_type": "execute_result"
    },
    {
     "data": {
      "image/png": "[encoded data removed]",
      "text/plain": [
       "<Figure size 640x480 with 1 Axes>"
      ]
     },
     "metadata": {},
     "output_type": "display_data"
    }
   ],
   "source": [
    "plt.scatter(Xtest,Ytest)"
   ]
  },
  {
   "cell_type": "code",
   "execution_count": 31,
   "id": "7f1f3aae",
   "metadata": {},
   "outputs": [],
   "source": [
    "Y_pred=Linear_regression_RGT.predict(df_test[['RGT Theo']])"
   ]
  },
  {
   "cell_type": "code",
   "execution_count": 32,
   "id": "ae2e5791",
   "metadata": {},
   "outputs": [
    {
     "data": {
      "text/plain": [
       "Index(['RGT Expt', 'RGT Theo'], dtype='object')"
      ]
     },
     "execution_count": 32,
     "metadata": {},
     "output_type": "execute_result"
    }
   ],
   "source": [
    "df_test.columns"
   ]
  },
  {
   "cell_type": "code",
   "execution_count": 33,
   "id": "485f9674",
   "metadata": {},
   "outputs": [
    {
     "data": {
      "text/plain": [
       "Text(0, 0.5, 'Theoretical Energy')"
      ]
     },
     "execution_count": 33,
     "metadata": {},
     "output_type": "execute_result"
    },
    {
     "data": {
      "image/png": "[encoded data removed]",
      "text/plain": [
       "<Figure size 640x480 with 1 Axes>"
      ]
     },
     "metadata": {},
     "output_type": "display_data"
    }
   ],
   "source": [
    "plt.scatter(df_test['RGT Theo'],df_test['RGT Expt'])\n",
    "plt.rcParams[\"figure.autolayout\"] = True\n",
    "\n",
    "plt.plot(df_test[['RGT Theo']],Linear_regression_RGT.predict(df_test[['RGT Theo']]),color='red',label='best fit line')\n",
    "#Ploting the best fit line for the energy value\n",
    "\n",
    "leg = plt.legend(loc='upper center')\n",
    "plt.xlabel('RGT E')\n",
    "plt.ylabel('Theoretical Energy')\n",
    "#print the legend of the graph"
   ]
  },
  {
   "cell_type": "code",
   "execution_count": 34,
   "id": "2cf178d1",
   "metadata": {},
   "outputs": [],
   "source": [
    "def function_slope():\n",
    "    slope=0\n",
    "    slope_cal_not_done=True\n",
    "    while(slope_cal_not_done):\n",
    "        Xtrain,Xtest,Ytrain,Ytest = train_test_split(df_test[['RGT Theo']],df_test[['RGT Expt']],test_size=0.40)\n",
    "        Linear_regression_RGT.fit(Xtrain,Ytrain)\n",
    "        slope=Linear_regression_RGT.coef_\n",
    "        slope\n",
    "        print (slope)\n",
    "        if((slope>0.66) and(slope<0.67)):\n",
    "            slope_cal_not_done=False\n",
    "    \n",
    "    return(slope)"
   ]
  },
  {
   "cell_type": "code",
   "execution_count": 35,
   "id": "66faf70d",
   "metadata": {},
   "outputs": [
    {
     "name": "stdout",
     "output_type": "stream",
     "text": [
      "[[0.87051203]]\n",
      "[[0.51486292]]\n",
      "[[0.47242914]]\n",
      "[[0.27903736]]\n",
      "[[0.49841133]]\n",
      "[[0.26460255]]\n",
      "[[0.35856896]]\n",
      "[[0.27992773]]\n",
      "[[0.2564396]]\n",
      "[[0.28204132]]\n",
      "[[0.40577836]]\n",
      "[[0.81476109]]\n",
      "[[0.51033073]]\n",
      "[[0.48441782]]\n",
      "[[0.48844896]]\n",
      "[[0.41195706]]\n",
      "[[0.51871061]]\n",
      "[[0.76299612]]\n",
      "[[0.48220149]]\n",
      "[[0.48696486]]\n",
      "[[0.33082086]]\n",
      "[[0.25905833]]\n",
      "[[0.50322035]]\n",
      "[[0.45924621]]\n",
      "[[0.62068182]]\n",
      "[[0.3120406]]\n",
      "[[0.43358362]]\n",
      "[[0.34174367]]\n",
      "[[0.41459402]]\n",
      "[[0.52709371]]\n",
      "[[0.37455961]]\n",
      "[[0.35226778]]\n",
      "[[0.38834983]]\n",
      "[[0.25744979]]\n",
      "[[0.37507252]]\n",
      "[[0.28868498]]\n",
      "[[0.61605169]]\n",
      "[[0.44940912]]\n",
      "[[0.57898433]]\n",
      "[[0.84470507]]\n",
      "[[0.36451157]]\n",
      "[[0.45169521]]\n",
      "[[0.83214365]]\n",
      "[[0.48299961]]\n",
      "[[0.48871625]]\n",
      "[[0.49960254]]\n",
      "[[0.22993842]]\n",
      "[[0.32293835]]\n",
      "[[0.42660286]]\n",
      "[[0.43883652]]\n",
      "[[0.17697429]]\n",
      "[[0.43200466]]\n",
      "[[0.28908732]]\n",
      "[[0.34016821]]\n",
      "[[0.80588472]]\n",
      "[[0.35339445]]\n",
      "[[0.36563906]]\n",
      "[[0.44139949]]\n",
      "[[0.35752695]]\n",
      "[[0.37249396]]\n",
      "[[0.80127909]]\n",
      "[[0.23653928]]\n",
      "[[0.2981574]]\n",
      "[[0.42929409]]\n",
      "[[0.44584002]]\n",
      "[[0.3186966]]\n",
      "[[0.22803256]]\n"
     ]
    },
    {
     "name": "stdout",
     "output_type": "stream",
     "text": [
      "[[0.54806269]]\n",
      "[[0.34407493]]\n",
      "[[0.266346]]\n",
      "[[0.35678631]]\n",
      "[[0.80821147]]\n",
      "[[0.37235401]]\n",
      "[[0.36337607]]\n",
      "[[0.38486485]]\n",
      "[[0.42296195]]\n",
      "[[0.38900856]]\n",
      "[[0.41394349]]\n",
      "[[0.5293691]]\n",
      "[[0.60520117]]\n",
      "[[0.24518369]]\n",
      "[[0.5851341]]\n",
      "[[0.41156016]]\n",
      "[[0.43712578]]\n",
      "[[0.68385633]]\n",
      "[[0.41175552]]\n",
      "[[0.35933463]]\n",
      "[[0.56475504]]\n",
      "[[0.40662873]]\n",
      "[[0.36746875]]\n",
      "[[0.41755709]]\n",
      "[[0.31669279]]\n",
      "[[0.4095316]]\n",
      "[[0.19695141]]\n",
      "[[0.8661876]]\n",
      "[[0.34993836]]\n",
      "[[0.43201102]]\n",
      "[[0.25125139]]\n",
      "[[0.34913715]]\n",
      "[[0.57067622]]\n",
      "[[0.31661345]]\n",
      "[[0.46065791]]\n",
      "[[0.2999027]]\n",
      "[[0.51179757]]\n",
      "[[0.41077596]]\n",
      "[[0.37766449]]\n",
      "[[0.33514933]]\n",
      "[[0.43658693]]\n",
      "[[0.54353307]]\n",
      "[[0.44456195]]\n",
      "[[0.25068865]]\n",
      "[[0.15142816]]\n",
      "[[0.6469171]]\n",
      "[[0.48614361]]\n",
      "[[0.41223714]]\n",
      "[[0.56993048]]\n",
      "[[0.58955282]]\n",
      "[[0.5510305]]\n",
      "[[0.3845331]]\n",
      "[[0.77366063]]\n",
      "[[0.5565461]]\n",
      "[[0.72634294]]\n",
      "[[0.28088058]]\n",
      "[[0.28636037]]\n",
      "[[0.6342558]]\n",
      "[[0.34016604]]\n",
      "[[0.46212888]]\n",
      "[[0.48030844]]\n",
      "[[0.51436066]]\n",
      "[[0.47279512]]\n",
      "[[0.42589937]]\n",
      "[[0.58210061]]\n",
      "[[0.3410783]]\n",
      "[[0.52820833]]\n",
      "[[0.42337471]]\n",
      "[[0.33308762]]\n",
      "[[0.64777682]]\n",
      "[[0.5722104]]\n",
      "[[0.35102319]]\n",
      "[[0.25930707]]\n",
      "[[0.64778128]]\n",
      "[[0.57829141]]\n",
      "[[0.56688188]]\n",
      "[[0.3306478]]\n",
      "[[0.39546144]]\n",
      "[[0.38179846]]\n",
      "[[0.35041784]]\n",
      "[[0.36905418]]\n",
      "[[0.51225571]]\n",
      "[[0.39710606]]\n",
      "[[0.38822251]]\n",
      "[[0.23417022]]\n",
      "[[0.53335752]]\n",
      "[[0.4121272]]\n",
      "[[0.27600834]]\n",
      "[[0.59333161]]\n",
      "[[0.23431468]]\n",
      "[[0.97717671]]\n",
      "[[0.48225538]]\n",
      "[[0.31547003]]\n",
      "[[0.40604842]]\n",
      "[[0.84074432]]\n",
      "[[0.38019707]]\n",
      "[[0.37812329]]\n",
      "[[0.54680885]]\n",
      "[[0.90333175]]\n",
      "[[0.34972496]]\n",
      "[[0.4531497]]\n",
      "[[0.75386756]]\n",
      "[[0.38301468]]\n",
      "[[0.55500529]]\n",
      "[[0.54976437]]\n",
      "[[0.39260062]]\n",
      "[[0.5169495]]\n",
      "[[0.27786569]]\n",
      "[[0.59385869]]\n",
      "[[0.44849403]]\n",
      "[[0.57548481]]\n",
      "[[0.44218093]]\n",
      "[[0.38844161]]\n",
      "[[0.66247403]]\n"
     ]
    }
   ],
   "source": [
    "slope_RGT=function_slope()"
   ]
  },
  {
   "cell_type": "code",
   "execution_count": 36,
   "id": "755cd5a3",
   "metadata": {},
   "outputs": [
    {
     "data": {
      "text/plain": [
       "Text(0, 0.5, 'RGT Expterimental')"
      ]
     },
     "execution_count": 36,
     "metadata": {},
     "output_type": "execute_result"
    },
    {
     "data": {
      "image/png": "[encoded data removed]",
      "text/plain": [
       "<Figure size 640x480 with 1 Axes>"
      ]
     },
     "metadata": {},
     "output_type": "display_data"
    }
   ],
   "source": [
    "plt.scatter(df_test['RGT Theo'],df_test['RGT Expt'])\n",
    "plt.rcParams[\"figure.autolayout\"] = True\n",
    "\n",
    "plt.plot(df_test['RGT Theo'],Linear_regression_RGT.predict(df_test[['RGT Theo']]),color='red',label='best fit line')\n",
    "#Ploting the best fit line for the energy value\n",
    "\n",
    "leg = plt.legend(loc='upper center')\n",
    "plt.xlabel('RGT Theoretical')\n",
    "plt.ylabel('RGT Expterimental')\n",
    "#print the legend of the graph"
   ]
  },
  {
   "cell_type": "markdown",
   "id": "00338e4a",
   "metadata": {},
   "source": [
    "joblib.dump(Linear_regression_RGT,\"Linear_Regression_RGT_slope_0.665.joblib\")"
   ]
  },
  {
   "cell_type": "code",
   "execution_count": 37,
   "id": "049d2e0d",
   "metadata": {},
   "outputs": [],
   "source": [
    "Nuclear_half_live =pd.read_csv('/home/yash/Data//kaggle_data/Nuclear half life.csv')"
   ]
  },
  {
   "cell_type": "code",
   "execution_count": 38,
   "id": "fa1d370d",
   "metadata": {},
   "outputs": [
    {
     "data": {
      "text/html": [
       "<div>\n",
       "<style scoped>\n",
       "    .dataframe tbody tr th:only-of-type {\n",
       "        vertical-align: middle;\n",
       "    }\n",
       "\n",
       "    .dataframe tbody tr th {\n",
       "        vertical-align: top;\n",
       "    }\n",
       "\n",
       "    .dataframe thead th {\n",
       "        text-align: right;\n",
       "    }\n",
       "</style>\n",
       "<table border=\"1\" class=\"dataframe\">\n",
       "  <thead>\n",
       "    <tr style=\"text-align: right;\">\n",
       "      <th></th>\n",
       "      <th>Half life theo</th>\n",
       "      <th>Half life expt</th>\n",
       "      <th>mass number</th>\n",
       "      <th>Name_element</th>\n",
       "      <th>B_GT</th>\n",
       "    </tr>\n",
       "  </thead>\n",
       "  <tbody>\n",
       "    <tr>\n",
       "      <th>0</th>\n",
       "      <td>251.90</td>\n",
       "      <td>460.0</td>\n",
       "      <td>52</td>\n",
       "      <td>SC</td>\n",
       "      <td>0.1004</td>\n",
       "    </tr>\n",
       "    <tr>\n",
       "      <th>1</th>\n",
       "      <td>268.87</td>\n",
       "      <td>461.0</td>\n",
       "      <td>53</td>\n",
       "      <td>SC</td>\n",
       "      <td>0.1400</td>\n",
       "    </tr>\n",
       "    <tr>\n",
       "      <th>2</th>\n",
       "      <td>186.70</td>\n",
       "      <td>86.0</td>\n",
       "      <td>54</td>\n",
       "      <td>SC</td>\n",
       "      <td>0.8950</td>\n",
       "    </tr>\n",
       "    <tr>\n",
       "      <th>3</th>\n",
       "      <td>18.51</td>\n",
       "      <td>22.0</td>\n",
       "      <td>55</td>\n",
       "      <td>SC</td>\n",
       "      <td>0.0902</td>\n",
       "    </tr>\n",
       "    <tr>\n",
       "      <th>4</th>\n",
       "      <td>1.56</td>\n",
       "      <td>11.0</td>\n",
       "      <td>56</td>\n",
       "      <td>SC</td>\n",
       "      <td>0.7990</td>\n",
       "    </tr>\n",
       "    <tr>\n",
       "      <th>...</th>\n",
       "      <td>...</td>\n",
       "      <td>...</td>\n",
       "      <td>...</td>\n",
       "      <td>...</td>\n",
       "      <td>...</td>\n",
       "    </tr>\n",
       "    <tr>\n",
       "      <th>74</th>\n",
       "      <td>393.00</td>\n",
       "      <td>570.0</td>\n",
       "      <td>76</td>\n",
       "      <td>Ga</td>\n",
       "      <td>0.2640</td>\n",
       "    </tr>\n",
       "    <tr>\n",
       "      <th>75</th>\n",
       "      <td>110.00</td>\n",
       "      <td>208.0</td>\n",
       "      <td>77</td>\n",
       "      <td>Ga</td>\n",
       "      <td>0.0680</td>\n",
       "    </tr>\n",
       "    <tr>\n",
       "      <th>76</th>\n",
       "      <td>51.00</td>\n",
       "      <td>147.0</td>\n",
       "      <td>78</td>\n",
       "      <td>Ga</td>\n",
       "      <td>0.2670</td>\n",
       "    </tr>\n",
       "    <tr>\n",
       "      <th>77</th>\n",
       "      <td>450.88</td>\n",
       "      <td>995.0</td>\n",
       "      <td>79</td>\n",
       "      <td>Ga</td>\n",
       "      <td>0.0560</td>\n",
       "    </tr>\n",
       "    <tr>\n",
       "      <th>78</th>\n",
       "      <td>1331.00</td>\n",
       "      <td>5622.0</td>\n",
       "      <td>80</td>\n",
       "      <td>Ga</td>\n",
       "      <td>0.4170</td>\n",
       "    </tr>\n",
       "  </tbody>\n",
       "</table>\n",
       "<p>79 rows × 5 columns</p>\n",
       "</div>"
      ],
      "text/plain": [
       "    Half life theo  Half life expt  mass number Name_element    B_GT\n",
       "0           251.90           460.0           52           SC  0.1004\n",
       "1           268.87           461.0           53           SC  0.1400\n",
       "2           186.70            86.0           54           SC  0.8950\n",
       "3            18.51            22.0           55           SC  0.0902\n",
       "4             1.56            11.0           56           SC  0.7990\n",
       "..             ...             ...          ...          ...     ...\n",
       "74          393.00           570.0           76           Ga  0.2640\n",
       "75          110.00           208.0           77           Ga  0.0680\n",
       "76           51.00           147.0           78           Ga  0.2670\n",
       "77          450.88           995.0           79           Ga  0.0560\n",
       "78         1331.00          5622.0           80           Ga  0.4170\n",
       "\n",
       "[79 rows x 5 columns]"
      ]
     },
     "execution_count": 38,
     "metadata": {},
     "output_type": "execute_result"
    }
   ],
   "source": [
    "Nuclear_half_live"
   ]
  },
  {
   "cell_type": "code",
   "execution_count": 39,
   "id": "af2c74eb",
   "metadata": {},
   "outputs": [
    {
     "data": {
      "text/plain": [
       "<matplotlib.collections.PathCollection at 0x7f8cfb7e6cd0>"
      ]
     },
     "execution_count": 39,
     "metadata": {},
     "output_type": "execute_result"
    },
    {
     "data": {
      "image/png": "[encoded data removed]",
      "text/plain": [
       "<Figure size 640x480 with 1 Axes>"
      ]
     },
     "metadata": {},
     "output_type": "display_data"
    }
   ],
   "source": [
    "plt.scatter(Nuclear_half_live['Half life expt'],Nuclear_half_live['Half life theo'])"
   ]
  },
  {
   "cell_type": "code",
   "execution_count": 40,
   "id": "52994cff",
   "metadata": {},
   "outputs": [],
   "source": [
    "y_pred=Linear_regression_RGT.predict(df_test[['RGT Theo']])"
   ]
  },
  {
   "cell_type": "code",
   "execution_count": 41,
   "id": "830270e1",
   "metadata": {},
   "outputs": [],
   "source": [
    "MeanSquaredError=mean_squared_error(df_test[['RGT Expt']],y_pred)"
   ]
  },
  {
   "cell_type": "code",
   "execution_count": 42,
   "id": "8d681096",
   "metadata": {},
   "outputs": [
    {
     "data": {
      "text/plain": [
       "0.00746118573203447"
      ]
     },
     "execution_count": 42,
     "metadata": {},
     "output_type": "execute_result"
    }
   ],
   "source": [
    "MeanSquaredError"
   ]
  },
  {
   "cell_type": "code",
   "execution_count": 43,
   "id": "fe33f505",
   "metadata": {},
   "outputs": [
    {
     "data": {
      "text/html": [
       "<div>\n",
       "<style scoped>\n",
       "    .dataframe tbody tr th:only-of-type {\n",
       "        vertical-align: middle;\n",
       "    }\n",
       "\n",
       "    .dataframe tbody tr th {\n",
       "        vertical-align: top;\n",
       "    }\n",
       "\n",
       "    .dataframe thead th {\n",
       "        text-align: right;\n",
       "    }\n",
       "</style>\n",
       "<table border=\"1\" class=\"dataframe\">\n",
       "  <thead>\n",
       "    <tr style=\"text-align: right;\">\n",
       "      <th></th>\n",
       "      <th>Co</th>\n",
       "      <th>Cr</th>\n",
       "      <th>Cu</th>\n",
       "      <th>Fe</th>\n",
       "      <th>Ga</th>\n",
       "      <th>Mn</th>\n",
       "      <th>Ni</th>\n",
       "      <th>SC</th>\n",
       "      <th>Ti</th>\n",
       "      <th>V</th>\n",
       "      <th>Zn</th>\n",
       "    </tr>\n",
       "  </thead>\n",
       "  <tbody>\n",
       "    <tr>\n",
       "      <th>0</th>\n",
       "      <td>False</td>\n",
       "      <td>False</td>\n",
       "      <td>False</td>\n",
       "      <td>False</td>\n",
       "      <td>False</td>\n",
       "      <td>False</td>\n",
       "      <td>False</td>\n",
       "      <td>True</td>\n",
       "      <td>False</td>\n",
       "      <td>False</td>\n",
       "      <td>False</td>\n",
       "    </tr>\n",
       "    <tr>\n",
       "      <th>1</th>\n",
       "      <td>False</td>\n",
       "      <td>False</td>\n",
       "      <td>False</td>\n",
       "      <td>False</td>\n",
       "      <td>False</td>\n",
       "      <td>False</td>\n",
       "      <td>False</td>\n",
       "      <td>True</td>\n",
       "      <td>False</td>\n",
       "      <td>False</td>\n",
       "      <td>False</td>\n",
       "    </tr>\n",
       "    <tr>\n",
       "      <th>2</th>\n",
       "      <td>False</td>\n",
       "      <td>False</td>\n",
       "      <td>False</td>\n",
       "      <td>False</td>\n",
       "      <td>False</td>\n",
       "      <td>False</td>\n",
       "      <td>False</td>\n",
       "      <td>True</td>\n",
       "      <td>False</td>\n",
       "      <td>False</td>\n",
       "      <td>False</td>\n",
       "    </tr>\n",
       "    <tr>\n",
       "      <th>3</th>\n",
       "      <td>False</td>\n",
       "      <td>False</td>\n",
       "      <td>False</td>\n",
       "      <td>False</td>\n",
       "      <td>False</td>\n",
       "      <td>False</td>\n",
       "      <td>False</td>\n",
       "      <td>True</td>\n",
       "      <td>False</td>\n",
       "      <td>False</td>\n",
       "      <td>False</td>\n",
       "    </tr>\n",
       "    <tr>\n",
       "      <th>4</th>\n",
       "      <td>False</td>\n",
       "      <td>False</td>\n",
       "      <td>False</td>\n",
       "      <td>False</td>\n",
       "      <td>False</td>\n",
       "      <td>False</td>\n",
       "      <td>False</td>\n",
       "      <td>True</td>\n",
       "      <td>False</td>\n",
       "      <td>False</td>\n",
       "      <td>False</td>\n",
       "    </tr>\n",
       "    <tr>\n",
       "      <th>...</th>\n",
       "      <td>...</td>\n",
       "      <td>...</td>\n",
       "      <td>...</td>\n",
       "      <td>...</td>\n",
       "      <td>...</td>\n",
       "      <td>...</td>\n",
       "      <td>...</td>\n",
       "      <td>...</td>\n",
       "      <td>...</td>\n",
       "      <td>...</td>\n",
       "      <td>...</td>\n",
       "    </tr>\n",
       "    <tr>\n",
       "      <th>74</th>\n",
       "      <td>False</td>\n",
       "      <td>False</td>\n",
       "      <td>False</td>\n",
       "      <td>False</td>\n",
       "      <td>True</td>\n",
       "      <td>False</td>\n",
       "      <td>False</td>\n",
       "      <td>False</td>\n",
       "      <td>False</td>\n",
       "      <td>False</td>\n",
       "      <td>False</td>\n",
       "    </tr>\n",
       "    <tr>\n",
       "      <th>75</th>\n",
       "      <td>False</td>\n",
       "      <td>False</td>\n",
       "      <td>False</td>\n",
       "      <td>False</td>\n",
       "      <td>True</td>\n",
       "      <td>False</td>\n",
       "      <td>False</td>\n",
       "      <td>False</td>\n",
       "      <td>False</td>\n",
       "      <td>False</td>\n",
       "      <td>False</td>\n",
       "    </tr>\n",
       "    <tr>\n",
       "      <th>76</th>\n",
       "      <td>False</td>\n",
       "      <td>False</td>\n",
       "      <td>False</td>\n",
       "      <td>False</td>\n",
       "      <td>True</td>\n",
       "      <td>False</td>\n",
       "      <td>False</td>\n",
       "      <td>False</td>\n",
       "      <td>False</td>\n",
       "      <td>False</td>\n",
       "      <td>False</td>\n",
       "    </tr>\n",
       "    <tr>\n",
       "      <th>77</th>\n",
       "      <td>False</td>\n",
       "      <td>False</td>\n",
       "      <td>False</td>\n",
       "      <td>False</td>\n",
       "      <td>True</td>\n",
       "      <td>False</td>\n",
       "      <td>False</td>\n",
       "      <td>False</td>\n",
       "      <td>False</td>\n",
       "      <td>False</td>\n",
       "      <td>False</td>\n",
       "    </tr>\n",
       "    <tr>\n",
       "      <th>78</th>\n",
       "      <td>False</td>\n",
       "      <td>False</td>\n",
       "      <td>False</td>\n",
       "      <td>False</td>\n",
       "      <td>True</td>\n",
       "      <td>False</td>\n",
       "      <td>False</td>\n",
       "      <td>False</td>\n",
       "      <td>False</td>\n",
       "      <td>False</td>\n",
       "      <td>False</td>\n",
       "    </tr>\n",
       "  </tbody>\n",
       "</table>\n",
       "<p>79 rows × 11 columns</p>\n",
       "</div>"
      ],
      "text/plain": [
       "       Co     Cr     Cu     Fe     Ga     Mn     Ni     SC     Ti      V  \\\n",
       "0   False  False  False  False  False  False  False   True  False  False   \n",
       "1   False  False  False  False  False  False  False   True  False  False   \n",
       "2   False  False  False  False  False  False  False   True  False  False   \n",
       "3   False  False  False  False  False  False  False   True  False  False   \n",
       "4   False  False  False  False  False  False  False   True  False  False   \n",
       "..    ...    ...    ...    ...    ...    ...    ...    ...    ...    ...   \n",
       "74  False  False  False  False   True  False  False  False  False  False   \n",
       "75  False  False  False  False   True  False  False  False  False  False   \n",
       "76  False  False  False  False   True  False  False  False  False  False   \n",
       "77  False  False  False  False   True  False  False  False  False  False   \n",
       "78  False  False  False  False   True  False  False  False  False  False   \n",
       "\n",
       "       Zn  \n",
       "0   False  \n",
       "1   False  \n",
       "2   False  \n",
       "3   False  \n",
       "4   False  \n",
       "..    ...  \n",
       "74  False  \n",
       "75  False  \n",
       "76  False  \n",
       "77  False  \n",
       "78  False  \n",
       "\n",
       "[79 rows x 11 columns]"
      ]
     },
     "execution_count": 43,
     "metadata": {},
     "output_type": "execute_result"
    }
   ],
   "source": [
    "dummy=pd.get_dummies(Nuclear_half_live[\"Name_element\"])\n",
    "dummy"
   ]
  },
  {
   "cell_type": "code",
   "execution_count": 44,
   "id": "31b2d705",
   "metadata": {},
   "outputs": [],
   "source": [
    "dummy.replace(False,'0',inplace=True)\n",
    "dummy.replace(True,'1',inplace=True)"
   ]
  },
  {
   "cell_type": "code",
   "execution_count": 45,
   "id": "d525c3c7",
   "metadata": {},
   "outputs": [
    {
     "data": {
      "text/html": [
       "<div>\n",
       "<style scoped>\n",
       "    .dataframe tbody tr th:only-of-type {\n",
       "        vertical-align: middle;\n",
       "    }\n",
       "\n",
       "    .dataframe tbody tr th {\n",
       "        vertical-align: top;\n",
       "    }\n",
       "\n",
       "    .dataframe thead th {\n",
       "        text-align: right;\n",
       "    }\n",
       "</style>\n",
       "<table border=\"1\" class=\"dataframe\">\n",
       "  <thead>\n",
       "    <tr style=\"text-align: right;\">\n",
       "      <th></th>\n",
       "      <th>Co</th>\n",
       "      <th>Cr</th>\n",
       "      <th>Cu</th>\n",
       "      <th>Fe</th>\n",
       "      <th>Ga</th>\n",
       "      <th>Mn</th>\n",
       "      <th>Ni</th>\n",
       "      <th>SC</th>\n",
       "      <th>Ti</th>\n",
       "      <th>V</th>\n",
       "      <th>Zn</th>\n",
       "    </tr>\n",
       "  </thead>\n",
       "  <tbody>\n",
       "    <tr>\n",
       "      <th>0</th>\n",
       "      <td>0</td>\n",
       "      <td>0</td>\n",
       "      <td>0</td>\n",
       "      <td>0</td>\n",
       "      <td>0</td>\n",
       "      <td>0</td>\n",
       "      <td>0</td>\n",
       "      <td>1</td>\n",
       "      <td>0</td>\n",
       "      <td>0</td>\n",
       "      <td>0</td>\n",
       "    </tr>\n",
       "    <tr>\n",
       "      <th>1</th>\n",
       "      <td>0</td>\n",
       "      <td>0</td>\n",
       "      <td>0</td>\n",
       "      <td>0</td>\n",
       "      <td>0</td>\n",
       "      <td>0</td>\n",
       "      <td>0</td>\n",
       "      <td>1</td>\n",
       "      <td>0</td>\n",
       "      <td>0</td>\n",
       "      <td>0</td>\n",
       "    </tr>\n",
       "    <tr>\n",
       "      <th>2</th>\n",
       "      <td>0</td>\n",
       "      <td>0</td>\n",
       "      <td>0</td>\n",
       "      <td>0</td>\n",
       "      <td>0</td>\n",
       "      <td>0</td>\n",
       "      <td>0</td>\n",
       "      <td>1</td>\n",
       "      <td>0</td>\n",
       "      <td>0</td>\n",
       "      <td>0</td>\n",
       "    </tr>\n",
       "    <tr>\n",
       "      <th>3</th>\n",
       "      <td>0</td>\n",
       "      <td>0</td>\n",
       "      <td>0</td>\n",
       "      <td>0</td>\n",
       "      <td>0</td>\n",
       "      <td>0</td>\n",
       "      <td>0</td>\n",
       "      <td>1</td>\n",
       "      <td>0</td>\n",
       "      <td>0</td>\n",
       "      <td>0</td>\n",
       "    </tr>\n",
       "    <tr>\n",
       "      <th>4</th>\n",
       "      <td>0</td>\n",
       "      <td>0</td>\n",
       "      <td>0</td>\n",
       "      <td>0</td>\n",
       "      <td>0</td>\n",
       "      <td>0</td>\n",
       "      <td>0</td>\n",
       "      <td>1</td>\n",
       "      <td>0</td>\n",
       "      <td>0</td>\n",
       "      <td>0</td>\n",
       "    </tr>\n",
       "    <tr>\n",
       "      <th>...</th>\n",
       "      <td>...</td>\n",
       "      <td>...</td>\n",
       "      <td>...</td>\n",
       "      <td>...</td>\n",
       "      <td>...</td>\n",
       "      <td>...</td>\n",
       "      <td>...</td>\n",
       "      <td>...</td>\n",
       "      <td>...</td>\n",
       "      <td>...</td>\n",
       "      <td>...</td>\n",
       "    </tr>\n",
       "    <tr>\n",
       "      <th>74</th>\n",
       "      <td>0</td>\n",
       "      <td>0</td>\n",
       "      <td>0</td>\n",
       "      <td>0</td>\n",
       "      <td>1</td>\n",
       "      <td>0</td>\n",
       "      <td>0</td>\n",
       "      <td>0</td>\n",
       "      <td>0</td>\n",
       "      <td>0</td>\n",
       "      <td>0</td>\n",
       "    </tr>\n",
       "    <tr>\n",
       "      <th>75</th>\n",
       "      <td>0</td>\n",
       "      <td>0</td>\n",
       "      <td>0</td>\n",
       "      <td>0</td>\n",
       "      <td>1</td>\n",
       "      <td>0</td>\n",
       "      <td>0</td>\n",
       "      <td>0</td>\n",
       "      <td>0</td>\n",
       "      <td>0</td>\n",
       "      <td>0</td>\n",
       "    </tr>\n",
       "    <tr>\n",
       "      <th>76</th>\n",
       "      <td>0</td>\n",
       "      <td>0</td>\n",
       "      <td>0</td>\n",
       "      <td>0</td>\n",
       "      <td>1</td>\n",
       "      <td>0</td>\n",
       "      <td>0</td>\n",
       "      <td>0</td>\n",
       "      <td>0</td>\n",
       "      <td>0</td>\n",
       "      <td>0</td>\n",
       "    </tr>\n",
       "    <tr>\n",
       "      <th>77</th>\n",
       "      <td>0</td>\n",
       "      <td>0</td>\n",
       "      <td>0</td>\n",
       "      <td>0</td>\n",
       "      <td>1</td>\n",
       "      <td>0</td>\n",
       "      <td>0</td>\n",
       "      <td>0</td>\n",
       "      <td>0</td>\n",
       "      <td>0</td>\n",
       "      <td>0</td>\n",
       "    </tr>\n",
       "    <tr>\n",
       "      <th>78</th>\n",
       "      <td>0</td>\n",
       "      <td>0</td>\n",
       "      <td>0</td>\n",
       "      <td>0</td>\n",
       "      <td>1</td>\n",
       "      <td>0</td>\n",
       "      <td>0</td>\n",
       "      <td>0</td>\n",
       "      <td>0</td>\n",
       "      <td>0</td>\n",
       "      <td>0</td>\n",
       "    </tr>\n",
       "  </tbody>\n",
       "</table>\n",
       "<p>79 rows × 11 columns</p>\n",
       "</div>"
      ],
      "text/plain": [
       "   Co Cr Cu Fe Ga Mn Ni SC Ti  V Zn\n",
       "0   0  0  0  0  0  0  0  1  0  0  0\n",
       "1   0  0  0  0  0  0  0  1  0  0  0\n",
       "2   0  0  0  0  0  0  0  1  0  0  0\n",
       "3   0  0  0  0  0  0  0  1  0  0  0\n",
       "4   0  0  0  0  0  0  0  1  0  0  0\n",
       ".. .. .. .. .. .. .. .. .. .. .. ..\n",
       "74  0  0  0  0  1  0  0  0  0  0  0\n",
       "75  0  0  0  0  1  0  0  0  0  0  0\n",
       "76  0  0  0  0  1  0  0  0  0  0  0\n",
       "77  0  0  0  0  1  0  0  0  0  0  0\n",
       "78  0  0  0  0  1  0  0  0  0  0  0\n",
       "\n",
       "[79 rows x 11 columns]"
      ]
     },
     "execution_count": 45,
     "metadata": {},
     "output_type": "execute_result"
    }
   ],
   "source": [
    "dummy"
   ]
  },
  {
   "cell_type": "code",
   "execution_count": 46,
   "id": "e3fb0cf3",
   "metadata": {},
   "outputs": [],
   "source": [
    "Nuclear_half_live=pd.concat([Nuclear_half_live,dummy],axis=1)"
   ]
  },
  {
   "cell_type": "code",
   "execution_count": 47,
   "id": "23280b6a",
   "metadata": {},
   "outputs": [],
   "source": [
    "Nuclear_half_live.drop(['Name_element'],axis='columns',inplace=True)"
   ]
  },
  {
   "cell_type": "code",
   "execution_count": 48,
   "id": "08d85af1",
   "metadata": {},
   "outputs": [
    {
     "data": {
      "text/html": [
       "<div>\n",
       "<style scoped>\n",
       "    .dataframe tbody tr th:only-of-type {\n",
       "        vertical-align: middle;\n",
       "    }\n",
       "\n",
       "    .dataframe tbody tr th {\n",
       "        vertical-align: top;\n",
       "    }\n",
       "\n",
       "    .dataframe thead th {\n",
       "        text-align: right;\n",
       "    }\n",
       "</style>\n",
       "<table border=\"1\" class=\"dataframe\">\n",
       "  <thead>\n",
       "    <tr style=\"text-align: right;\">\n",
       "      <th></th>\n",
       "      <th>Half life theo</th>\n",
       "      <th>Half life expt</th>\n",
       "      <th>mass number</th>\n",
       "      <th>B_GT</th>\n",
       "      <th>Co</th>\n",
       "      <th>Cr</th>\n",
       "      <th>Cu</th>\n",
       "      <th>Fe</th>\n",
       "      <th>Ga</th>\n",
       "      <th>Mn</th>\n",
       "      <th>Ni</th>\n",
       "      <th>SC</th>\n",
       "      <th>Ti</th>\n",
       "      <th>V</th>\n",
       "      <th>Zn</th>\n",
       "    </tr>\n",
       "  </thead>\n",
       "  <tbody>\n",
       "    <tr>\n",
       "      <th>0</th>\n",
       "      <td>251.90</td>\n",
       "      <td>460.0</td>\n",
       "      <td>52</td>\n",
       "      <td>0.1004</td>\n",
       "      <td>0</td>\n",
       "      <td>0</td>\n",
       "      <td>0</td>\n",
       "      <td>0</td>\n",
       "      <td>0</td>\n",
       "      <td>0</td>\n",
       "      <td>0</td>\n",
       "      <td>1</td>\n",
       "      <td>0</td>\n",
       "      <td>0</td>\n",
       "      <td>0</td>\n",
       "    </tr>\n",
       "    <tr>\n",
       "      <th>1</th>\n",
       "      <td>268.87</td>\n",
       "      <td>461.0</td>\n",
       "      <td>53</td>\n",
       "      <td>0.1400</td>\n",
       "      <td>0</td>\n",
       "      <td>0</td>\n",
       "      <td>0</td>\n",
       "      <td>0</td>\n",
       "      <td>0</td>\n",
       "      <td>0</td>\n",
       "      <td>0</td>\n",
       "      <td>1</td>\n",
       "      <td>0</td>\n",
       "      <td>0</td>\n",
       "      <td>0</td>\n",
       "    </tr>\n",
       "    <tr>\n",
       "      <th>2</th>\n",
       "      <td>186.70</td>\n",
       "      <td>86.0</td>\n",
       "      <td>54</td>\n",
       "      <td>0.8950</td>\n",
       "      <td>0</td>\n",
       "      <td>0</td>\n",
       "      <td>0</td>\n",
       "      <td>0</td>\n",
       "      <td>0</td>\n",
       "      <td>0</td>\n",
       "      <td>0</td>\n",
       "      <td>1</td>\n",
       "      <td>0</td>\n",
       "      <td>0</td>\n",
       "      <td>0</td>\n",
       "    </tr>\n",
       "    <tr>\n",
       "      <th>3</th>\n",
       "      <td>18.51</td>\n",
       "      <td>22.0</td>\n",
       "      <td>55</td>\n",
       "      <td>0.0902</td>\n",
       "      <td>0</td>\n",
       "      <td>0</td>\n",
       "      <td>0</td>\n",
       "      <td>0</td>\n",
       "      <td>0</td>\n",
       "      <td>0</td>\n",
       "      <td>0</td>\n",
       "      <td>1</td>\n",
       "      <td>0</td>\n",
       "      <td>0</td>\n",
       "      <td>0</td>\n",
       "    </tr>\n",
       "    <tr>\n",
       "      <th>4</th>\n",
       "      <td>1.56</td>\n",
       "      <td>11.0</td>\n",
       "      <td>56</td>\n",
       "      <td>0.7990</td>\n",
       "      <td>0</td>\n",
       "      <td>0</td>\n",
       "      <td>0</td>\n",
       "      <td>0</td>\n",
       "      <td>0</td>\n",
       "      <td>0</td>\n",
       "      <td>0</td>\n",
       "      <td>1</td>\n",
       "      <td>0</td>\n",
       "      <td>0</td>\n",
       "      <td>0</td>\n",
       "    </tr>\n",
       "    <tr>\n",
       "      <th>...</th>\n",
       "      <td>...</td>\n",
       "      <td>...</td>\n",
       "      <td>...</td>\n",
       "      <td>...</td>\n",
       "      <td>...</td>\n",
       "      <td>...</td>\n",
       "      <td>...</td>\n",
       "      <td>...</td>\n",
       "      <td>...</td>\n",
       "      <td>...</td>\n",
       "      <td>...</td>\n",
       "      <td>...</td>\n",
       "      <td>...</td>\n",
       "      <td>...</td>\n",
       "      <td>...</td>\n",
       "    </tr>\n",
       "    <tr>\n",
       "      <th>74</th>\n",
       "      <td>393.00</td>\n",
       "      <td>570.0</td>\n",
       "      <td>76</td>\n",
       "      <td>0.2640</td>\n",
       "      <td>0</td>\n",
       "      <td>0</td>\n",
       "      <td>0</td>\n",
       "      <td>0</td>\n",
       "      <td>1</td>\n",
       "      <td>0</td>\n",
       "      <td>0</td>\n",
       "      <td>0</td>\n",
       "      <td>0</td>\n",
       "      <td>0</td>\n",
       "      <td>0</td>\n",
       "    </tr>\n",
       "    <tr>\n",
       "      <th>75</th>\n",
       "      <td>110.00</td>\n",
       "      <td>208.0</td>\n",
       "      <td>77</td>\n",
       "      <td>0.0680</td>\n",
       "      <td>0</td>\n",
       "      <td>0</td>\n",
       "      <td>0</td>\n",
       "      <td>0</td>\n",
       "      <td>1</td>\n",
       "      <td>0</td>\n",
       "      <td>0</td>\n",
       "      <td>0</td>\n",
       "      <td>0</td>\n",
       "      <td>0</td>\n",
       "      <td>0</td>\n",
       "    </tr>\n",
       "    <tr>\n",
       "      <th>76</th>\n",
       "      <td>51.00</td>\n",
       "      <td>147.0</td>\n",
       "      <td>78</td>\n",
       "      <td>0.2670</td>\n",
       "      <td>0</td>\n",
       "      <td>0</td>\n",
       "      <td>0</td>\n",
       "      <td>0</td>\n",
       "      <td>1</td>\n",
       "      <td>0</td>\n",
       "      <td>0</td>\n",
       "      <td>0</td>\n",
       "      <td>0</td>\n",
       "      <td>0</td>\n",
       "      <td>0</td>\n",
       "    </tr>\n",
       "    <tr>\n",
       "      <th>77</th>\n",
       "      <td>450.88</td>\n",
       "      <td>995.0</td>\n",
       "      <td>79</td>\n",
       "      <td>0.0560</td>\n",
       "      <td>0</td>\n",
       "      <td>0</td>\n",
       "      <td>0</td>\n",
       "      <td>0</td>\n",
       "      <td>1</td>\n",
       "      <td>0</td>\n",
       "      <td>0</td>\n",
       "      <td>0</td>\n",
       "      <td>0</td>\n",
       "      <td>0</td>\n",
       "      <td>0</td>\n",
       "    </tr>\n",
       "    <tr>\n",
       "      <th>78</th>\n",
       "      <td>1331.00</td>\n",
       "      <td>5622.0</td>\n",
       "      <td>80</td>\n",
       "      <td>0.4170</td>\n",
       "      <td>0</td>\n",
       "      <td>0</td>\n",
       "      <td>0</td>\n",
       "      <td>0</td>\n",
       "      <td>1</td>\n",
       "      <td>0</td>\n",
       "      <td>0</td>\n",
       "      <td>0</td>\n",
       "      <td>0</td>\n",
       "      <td>0</td>\n",
       "      <td>0</td>\n",
       "    </tr>\n",
       "  </tbody>\n",
       "</table>\n",
       "<p>79 rows × 15 columns</p>\n",
       "</div>"
      ],
      "text/plain": [
       "    Half life theo  Half life expt  mass number    B_GT Co Cr Cu Fe Ga Mn Ni  \\\n",
       "0           251.90           460.0           52  0.1004  0  0  0  0  0  0  0   \n",
       "1           268.87           461.0           53  0.1400  0  0  0  0  0  0  0   \n",
       "2           186.70            86.0           54  0.8950  0  0  0  0  0  0  0   \n",
       "3            18.51            22.0           55  0.0902  0  0  0  0  0  0  0   \n",
       "4             1.56            11.0           56  0.7990  0  0  0  0  0  0  0   \n",
       "..             ...             ...          ...     ... .. .. .. .. .. .. ..   \n",
       "74          393.00           570.0           76  0.2640  0  0  0  0  1  0  0   \n",
       "75          110.00           208.0           77  0.0680  0  0  0  0  1  0  0   \n",
       "76           51.00           147.0           78  0.2670  0  0  0  0  1  0  0   \n",
       "77          450.88           995.0           79  0.0560  0  0  0  0  1  0  0   \n",
       "78         1331.00          5622.0           80  0.4170  0  0  0  0  1  0  0   \n",
       "\n",
       "   SC Ti  V Zn  \n",
       "0   1  0  0  0  \n",
       "1   1  0  0  0  \n",
       "2   1  0  0  0  \n",
       "3   1  0  0  0  \n",
       "4   1  0  0  0  \n",
       ".. .. .. .. ..  \n",
       "74  0  0  0  0  \n",
       "75  0  0  0  0  \n",
       "76  0  0  0  0  \n",
       "77  0  0  0  0  \n",
       "78  0  0  0  0  \n",
       "\n",
       "[79 rows x 15 columns]"
      ]
     },
     "execution_count": 48,
     "metadata": {},
     "output_type": "execute_result"
    }
   ],
   "source": [
    "Nuclear_half_live"
   ]
  },
  {
   "cell_type": "code",
   "execution_count": 49,
   "id": "7dbf15e0",
   "metadata": {},
   "outputs": [
    {
     "name": "stderr",
     "output_type": "stream",
     "text": [
      "2023-09-13 07:05:39.183569: I tensorflow/core/platform/cpu_feature_guard.cc:182] This TensorFlow binary is optimized to use available CPU instructions in performance-critical operations.\n",
      "To enable the following instructions: AVX2 FMA, in other operations, rebuild TensorFlow with the appropriate compiler flags.\n",
      "2023-09-13 07:05:40.374987: W tensorflow/compiler/tf2tensorrt/utils/py_utils.cc:38] TF-TRT Warning: Could not find TensorRT\n"
     ]
    }
   ],
   "source": [
    "import tensorflow as tf\n",
    "from tensorflow import keras"
   ]
  },
  {
   "cell_type": "code",
   "execution_count": 50,
   "id": "4faeb30a",
   "metadata": {},
   "outputs": [
    {
     "name": "stdout",
     "output_type": "stream",
     "text": [
      "Num GPUs Available:  1\n"
     ]
    },
    {
     "name": "stderr",
     "output_type": "stream",
     "text": [
      "2023-09-13 07:05:41.481183: I tensorflow/compiler/xla/stream_executor/cuda/cuda_gpu_executor.cc:995] successful NUMA node read from SysFS had negative value (-1), but there must be at least one NUMA node, so returning NUMA node zero. See more at https://github.com/torvalds/linux/blob/v6.0/Documentation/ABI/testing/sysfs-bus-pci#L344-L355\n",
      "2023-09-13 07:05:41.753850: I tensorflow/compiler/xla/stream_executor/cuda/cuda_gpu_executor.cc:995] successful NUMA node read from SysFS had negative value (-1), but there must be at least one NUMA node, so returning NUMA node zero. See more at https://github.com/torvalds/linux/blob/v6.0/Documentation/ABI/testing/sysfs-bus-pci#L344-L355\n",
      "2023-09-13 07:05:41.754090: I tensorflow/compiler/xla/stream_executor/cuda/cuda_gpu_executor.cc:995] successful NUMA node read from SysFS had negative value (-1), but there must be at least one NUMA node, so returning NUMA node zero. See more at https://github.com/torvalds/linux/blob/v6.0/Documentation/ABI/testing/sysfs-bus-pci#L344-L355\n"
     ]
    }
   ],
   "source": [
    "import tensorflow as tf\n",
    "print(\"Num GPUs Available: \", len(tf.config.list_physical_devices('GPU')))"
   ]
  },
  {
   "cell_type": "code",
   "execution_count": 51,
   "id": "ea0e796f",
   "metadata": {},
   "outputs": [],
   "source": [
    "mse=keras.losses.MeanSquaredError()\n",
    "optimzer=tf.keras.optimizers.legacy.Adam(learning_rate=0.001)"
   ]
  },
  {
   "cell_type": "code",
   "execution_count": 52,
   "id": "480def8b",
   "metadata": {},
   "outputs": [],
   "source": [
    "Nuclear_train_x,Nuclear_test_x,Nuclear_train_y,Nuclear_test_y=train_test_split(Nuclear_half_live[['mass number','B_GT']],Nuclear_half_live['Half life expt'],test_size=0.2)"
   ]
  },
  {
   "cell_type": "code",
   "execution_count": 53,
   "id": "bdf6744b",
   "metadata": {},
   "outputs": [
    {
     "data": {
      "text/html": [
       "<div>\n",
       "<style scoped>\n",
       "    .dataframe tbody tr th:only-of-type {\n",
       "        vertical-align: middle;\n",
       "    }\n",
       "\n",
       "    .dataframe tbody tr th {\n",
       "        vertical-align: top;\n",
       "    }\n",
       "\n",
       "    .dataframe thead th {\n",
       "        text-align: right;\n",
       "    }\n",
       "</style>\n",
       "<table border=\"1\" class=\"dataframe\">\n",
       "  <thead>\n",
       "    <tr style=\"text-align: right;\">\n",
       "      <th></th>\n",
       "      <th>mass number</th>\n",
       "      <th>B_GT</th>\n",
       "    </tr>\n",
       "  </thead>\n",
       "  <tbody>\n",
       "    <tr>\n",
       "      <th>53</th>\n",
       "      <td>73</td>\n",
       "      <td>0.056</td>\n",
       "    </tr>\n",
       "    <tr>\n",
       "      <th>43</th>\n",
       "      <td>66</td>\n",
       "      <td>1.105</td>\n",
       "    </tr>\n",
       "    <tr>\n",
       "      <th>17</th>\n",
       "      <td>58</td>\n",
       "      <td>0.329</td>\n",
       "    </tr>\n",
       "    <tr>\n",
       "      <th>25</th>\n",
       "      <td>59</td>\n",
       "      <td>0.512</td>\n",
       "    </tr>\n",
       "    <tr>\n",
       "      <th>4</th>\n",
       "      <td>56</td>\n",
       "      <td>0.799</td>\n",
       "    </tr>\n",
       "  </tbody>\n",
       "</table>\n",
       "</div>"
      ],
      "text/plain": [
       "    mass number   B_GT\n",
       "53           73  0.056\n",
       "43           66  1.105\n",
       "17           58  0.329\n",
       "25           59  0.512\n",
       "4            56  0.799"
      ]
     },
     "execution_count": 53,
     "metadata": {},
     "output_type": "execute_result"
    }
   ],
   "source": [
    "Nuclear_train_x[:5]"
   ]
  },
  {
   "cell_type": "code",
   "execution_count": 54,
   "id": "51ffb437",
   "metadata": {},
   "outputs": [],
   "source": [
    "xg_model=XGBRFRegressor(n_estimators=1000,num_parallel_tree=10)"
   ]
  },
  {
   "cell_type": "markdown",
   "id": "722ffb2f",
   "metadata": {},
   "source": [
    "Nuclear_train_x,Nuclear_train_y=Scaler_max.fit_transform([[Nuclear_train_x]])\n",
    "Nuclear_train_x.reshape(-1,63,)\n",
    "Nuclear_train_y.reshape(-1,63,)"
   ]
  },
  {
   "cell_type": "code",
   "execution_count": 55,
   "id": "e9f01b51",
   "metadata": {
    "scrolled": true
   },
   "outputs": [
    {
     "data": {
      "text/html": [
       "<style>#sk-container-id-4 {color: black;}#sk-container-id-4 pre{padding: 0;}#sk-container-id-4 div.sk-toggleable {background-color: white;}#sk-container-id-4 label.sk-toggleable__label {cursor: pointer;display: block;width: 100%;margin-bottom: 0;padding: 0.3em;box-sizing: border-box;text-align: center;}#sk-container-id-4 label.sk-toggleable__label-arrow:before {content: \"▸\";float: left;margin-right: 0.25em;color: #696969;}#sk-container-id-4 label.sk-toggleable__label-arrow:hover:before {color: black;}#sk-container-id-4 div.sk-estimator:hover label.sk-toggleable__label-arrow:before {color: black;}#sk-container-id-4 div.sk-toggleable__content {max-height: 0;max-width: 0;overflow: hidden;text-align: left;background-color: #f0f8ff;}#sk-container-id-4 div.sk-toggleable__content pre {margin: 0.2em;color: black;border-radius: 0.25em;background-color: #f0f8ff;}#sk-container-id-4 input.sk-toggleable__control:checked~div.sk-toggleable__content {max-height: 200px;max-width: 100%;overflow: auto;}#sk-container-id-4 input.sk-toggleable__control:checked~label.sk-toggleable__label-arrow:before {content: \"▾\";}#sk-container-id-4 div.sk-estimator input.sk-toggleable__control:checked~label.sk-toggleable__label {background-color: #d4ebff;}#sk-container-id-4 div.sk-label input.sk-toggleable__control:checked~label.sk-toggleable__label {background-color: #d4ebff;}#sk-container-id-4 input.sk-hidden--visually {border: 0;clip: rect(1px 1px 1px 1px);clip: rect(1px, 1px, 1px, 1px);height: 1px;margin: -1px;overflow: hidden;padding: 0;position: absolute;width: 1px;}#sk-container-id-4 div.sk-estimator {font-family: monospace;background-color: #f0f8ff;border: 1px dotted black;border-radius: 0.25em;box-sizing: border-box;margin-bottom: 0.5em;}#sk-container-id-4 div.sk-estimator:hover {background-color: #d4ebff;}#sk-container-id-4 div.sk-parallel-item::after {content: \"\";width: 100%;border-bottom: 1px solid gray;flex-grow: 1;}#sk-container-id-4 div.sk-label:hover label.sk-toggleable__label {background-color: #d4ebff;}#sk-container-id-4 div.sk-serial::before {content: \"\";position: absolute;border-left: 1px solid gray;box-sizing: border-box;top: 0;bottom: 0;left: 50%;z-index: 0;}#sk-container-id-4 div.sk-serial {display: flex;flex-direction: column;align-items: center;background-color: white;padding-right: 0.2em;padding-left: 0.2em;position: relative;}#sk-container-id-4 div.sk-item {position: relative;z-index: 1;}#sk-container-id-4 div.sk-parallel {display: flex;align-items: stretch;justify-content: center;background-color: white;position: relative;}#sk-container-id-4 div.sk-item::before, #sk-container-id-4 div.sk-parallel-item::before {content: \"\";position: absolute;border-left: 1px solid gray;box-sizing: border-box;top: 0;bottom: 0;left: 50%;z-index: -1;}#sk-container-id-4 div.sk-parallel-item {display: flex;flex-direction: column;z-index: 1;position: relative;background-color: white;}#sk-container-id-4 div.sk-parallel-item:first-child::after {align-self: flex-end;width: 50%;}#sk-container-id-4 div.sk-parallel-item:last-child::after {align-self: flex-start;width: 50%;}#sk-container-id-4 div.sk-parallel-item:only-child::after {width: 0;}#sk-container-id-4 div.sk-dashed-wrapped {border: 1px dashed gray;margin: 0 0.4em 0.5em 0.4em;box-sizing: border-box;padding-bottom: 0.4em;background-color: white;}#sk-container-id-4 div.sk-label label {font-family: monospace;font-weight: bold;display: inline-block;line-height: 1.2em;}#sk-container-id-4 div.sk-label-container {text-align: center;}#sk-container-id-4 div.sk-container {/* jupyter's `normalize.less` sets `[hidden] { display: none; }` but bootstrap.min.css set `[hidden] { display: none !important; }` so we also need the `!important` here to be able to override the default hidden behavior on the sphinx rendered scikit-learn.org. See: https://github.com/scikit-learn/scikit-learn/issues/21755 */display: inline-block !important;position: relative;}#sk-container-id-4 div.sk-text-repr-fallback {display: none;}</style><div id=\"sk-container-id-4\" class=\"sk-top-container\"><div class=\"sk-text-repr-fallback\"><pre>XGBRFRegressor(base_score=None, booster=None, callbacks=None,\n",
       "               colsample_bylevel=None, colsample_bytree=None,\n",
       "               early_stopping_rounds=None, enable_categorical=False,\n",
       "               eval_metric=None, feature_types=None, gamma=None, gpu_id=None,\n",
       "               grow_policy=None, importance_type=None,\n",
       "               interaction_constraints=None, max_bin=None,\n",
       "               max_cat_threshold=None, max_cat_to_onehot=None,\n",
       "               max_delta_step=None, max_depth=None, max_leaves=None,\n",
       "               min_child_weight=None, missing=nan, monotone_constraints=None,\n",
       "               n_estimators=1000, n_jobs=None, num_parallel_tree=10,\n",
       "               objective=&#x27;reg:squarederror&#x27;, predictor=None, random_state=None,\n",
       "               reg_alpha=None, ...)</pre><b>In a Jupyter environment, please rerun this cell to show the HTML representation or trust the notebook. <br />On GitHub, the HTML representation is unable to render, please try loading this page with nbviewer.org.</b></div><div class=\"sk-container\" hidden><div class=\"sk-item\"><div class=\"sk-estimator sk-toggleable\"><input class=\"sk-toggleable__control sk-hidden--visually\" id=\"sk-estimator-id-4\" type=\"checkbox\" checked><label for=\"sk-estimator-id-4\" class=\"sk-toggleable__label sk-toggleable__label-arrow\">XGBRFRegressor</label><div class=\"sk-toggleable__content\"><pre>XGBRFRegressor(base_score=None, booster=None, callbacks=None,\n",
       "               colsample_bylevel=None, colsample_bytree=None,\n",
       "               early_stopping_rounds=None, enable_categorical=False,\n",
       "               eval_metric=None, feature_types=None, gamma=None, gpu_id=None,\n",
       "               grow_policy=None, importance_type=None,\n",
       "               interaction_constraints=None, max_bin=None,\n",
       "               max_cat_threshold=None, max_cat_to_onehot=None,\n",
       "               max_delta_step=None, max_depth=None, max_leaves=None,\n",
       "               min_child_weight=None, missing=nan, monotone_constraints=None,\n",
       "               n_estimators=1000, n_jobs=None, num_parallel_tree=10,\n",
       "               objective=&#x27;reg:squarederror&#x27;, predictor=None, random_state=None,\n",
       "               reg_alpha=None, ...)</pre></div></div></div></div></div>"
      ],
      "text/plain": [
       "XGBRFRegressor(base_score=None, booster=None, callbacks=None,\n",
       "               colsample_bylevel=None, colsample_bytree=None,\n",
       "               early_stopping_rounds=None, enable_categorical=False,\n",
       "               eval_metric=None, feature_types=None, gamma=None, gpu_id=None,\n",
       "               grow_policy=None, importance_type=None,\n",
       "               interaction_constraints=None, max_bin=None,\n",
       "               max_cat_threshold=None, max_cat_to_onehot=None,\n",
       "               max_delta_step=None, max_depth=None, max_leaves=None,\n",
       "               min_child_weight=None, missing=nan, monotone_constraints=None,\n",
       "               n_estimators=1000, n_jobs=None, num_parallel_tree=10,\n",
       "               objective='reg:squarederror', predictor=None, random_state=None,\n",
       "               reg_alpha=None, ...)"
      ]
     },
     "execution_count": 55,
     "metadata": {},
     "output_type": "execute_result"
    }
   ],
   "source": [
    "xg_model.fit(Nuclear_train_x,Nuclear_train_y)"
   ]
  },
  {
   "cell_type": "code",
   "execution_count": 56,
   "id": "7fca419c",
   "metadata": {},
   "outputs": [],
   "source": [
    "Scaler_max=MinMaxScaler()"
   ]
  },
  {
   "cell_type": "markdown",
   "id": "c3ecd774",
   "metadata": {},
   "source": [
    "new_dataframe=pd.concat([Nuclear_half_live,df_test],axis=1)\n",
    "new_dataframem"
   ]
  },
  {
   "cell_type": "markdown",
   "id": "f22120a9",
   "metadata": {},
   "source": [
    "mean_absolute_error_done=True\n",
    "mean_absolute_error_value=1000\n",
    "i=0\n",
    "error=0\n",
    "min_error=1000000\n",
    "while mean_absolute_error_done:\n",
    "    if (mean_absolute_error_value>100):\n",
    "        Nuclear_train_x,Nuclear_test_x,Nuclear_train_y,Nuclear_test_y=train_test_split(Nuclear_half_live['mass number'],Nuclear_half_live['Half life expt'],test_size=0.2)\n",
    "        xg_model.fit(Nuclear_train_x,Nuclear_train_y)\n",
    "        predictions = xg_model.predict(Nuclear_test_x)\n",
    "        error=mean_absolute_error(predictions, Nuclear_test_y)\n",
    "        print(\"Mean Absolute Error : \" + str(error))\n",
    "        if(error<min_error):\n",
    "            min_error=error\n",
    "        i+=1\n",
    "    else:\n",
    "        mean_absolute_error_done=False\n",
    "    if(i==10000):\n",
    "        break\n",
    "    elif(i%100==0):\n",
    "        print(i)\n",
    "        \n",
    "print(\"The minimum error is \"+str(min_error))"
   ]
  },
  {
   "cell_type": "code",
   "execution_count": 57,
   "id": "bde1a416",
   "metadata": {},
   "outputs": [],
   "source": [
    "Nuclear_train_x,Nuclear_test_x,Nuclear_train_y,Nuclear_test_y=train_test_split(Nuclear_half_live[['mass number','B_GT']],Nuclear_half_live['Half life expt'],test_size=0.2)"
   ]
  },
  {
   "cell_type": "markdown",
   "id": "7ea41ce1",
   "metadata": {},
   "source": [
    "Nuclear_train_x=Nuclear_train_x.to_numpy()\n",
    "Nuclear_train_y=Nuclear_train_y.to_numpy()\n",
    "Nuclear_train_x.reshape(63,1)\n",
    "Nuclear_train_y.reshape(63,1)"
   ]
  },
  {
   "cell_type": "code",
   "execution_count": 58,
   "id": "e3523a1e",
   "metadata": {},
   "outputs": [
    {
     "data": {
      "text/plain": [
       "(63,)"
      ]
     },
     "execution_count": 58,
     "metadata": {},
     "output_type": "execute_result"
    }
   ],
   "source": [
    "Nuclear_train_y.shape"
   ]
  },
  {
   "cell_type": "code",
   "execution_count": 59,
   "id": "6b0f55ad",
   "metadata": {},
   "outputs": [
    {
     "name": "stderr",
     "output_type": "stream",
     "text": [
      "2023-09-13 07:05:42.848907: I tensorflow/compiler/xla/stream_executor/cuda/cuda_gpu_executor.cc:995] successful NUMA node read from SysFS had negative value (-1), but there must be at least one NUMA node, so returning NUMA node zero. See more at https://github.com/torvalds/linux/blob/v6.0/Documentation/ABI/testing/sysfs-bus-pci#L344-L355\n",
      "2023-09-13 07:05:42.849265: I tensorflow/compiler/xla/stream_executor/cuda/cuda_gpu_executor.cc:995] successful NUMA node read from SysFS had negative value (-1), but there must be at least one NUMA node, so returning NUMA node zero. See more at https://github.com/torvalds/linux/blob/v6.0/Documentation/ABI/testing/sysfs-bus-pci#L344-L355\n",
      "2023-09-13 07:05:42.849502: I tensorflow/compiler/xla/stream_executor/cuda/cuda_gpu_executor.cc:995] successful NUMA node read from SysFS had negative value (-1), but there must be at least one NUMA node, so returning NUMA node zero. See more at https://github.com/torvalds/linux/blob/v6.0/Documentation/ABI/testing/sysfs-bus-pci#L344-L355\n",
      "2023-09-13 07:05:42.968341: I tensorflow/compiler/xla/stream_executor/cuda/cuda_gpu_executor.cc:995] successful NUMA node read from SysFS had negative value (-1), but there must be at least one NUMA node, so returning NUMA node zero. See more at https://github.com/torvalds/linux/blob/v6.0/Documentation/ABI/testing/sysfs-bus-pci#L344-L355\n",
      "2023-09-13 07:05:42.968695: I tensorflow/compiler/xla/stream_executor/cuda/cuda_gpu_executor.cc:995] successful NUMA node read from SysFS had negative value (-1), but there must be at least one NUMA node, so returning NUMA node zero. See more at https://github.com/torvalds/linux/blob/v6.0/Documentation/ABI/testing/sysfs-bus-pci#L344-L355\n",
      "2023-09-13 07:05:42.968912: I tensorflow/compiler/xla/stream_executor/cuda/cuda_gpu_executor.cc:995] successful NUMA node read from SysFS had negative value (-1), but there must be at least one NUMA node, so returning NUMA node zero. See more at https://github.com/torvalds/linux/blob/v6.0/Documentation/ABI/testing/sysfs-bus-pci#L344-L355\n",
      "2023-09-13 07:05:42.969063: I tensorflow/core/common_runtime/gpu/gpu_device.cc:1639] Created device /job:localhost/replica:0/task:0/device:GPU:0 with 1693 MB memory:  -> device: 0, name: NVIDIA GeForce RTX 3050 Laptop GPU, pci bus id: 0000:01:00.0, compute capability: 8.6\n"
     ]
    }
   ],
   "source": [
    "Tensor_array_tx=tf.convert_to_tensor(Nuclear_train_x)\n",
    "Tensor_array_ty=tf.convert_to_tensor(Nuclear_train_y)\n",
    "Tensor_array_tex=tf.convert_to_tensor(Nuclear_test_x)\n",
    "Tensor_array_tey=tf.convert_to_tensor(Nuclear_test_y)"
   ]
  },
  {
   "cell_type": "code",
   "execution_count": 60,
   "id": "c2989a86",
   "metadata": {},
   "outputs": [
    {
     "name": "stdout",
     "output_type": "stream",
     "text": [
      "11.8 8\n"
     ]
    }
   ],
   "source": [
    "import tensorflow as tf\n",
    "tf.config.list_physical_devices('GPU')\n",
    "sys_details = tf.sysconfig.get_build_info()\n",
    "cuda = sys_details['cuda_version']\n",
    "cudnn = sys_details['cudnn_version']\n",
    "print(cuda, cudnn)"
   ]
  },
  {
   "cell_type": "markdown",
   "id": "7746cfaa",
   "metadata": {},
   "source": [
    "Model_Nuclear_half_life=keras.Sequential([\n",
    "    keras.layers.Dense(63, activation=\"relu\"),\n",
    "    keras.layers.Dense(60, activation=\"tanh\"),\n",
    "    keras.layers.Dense(50, activation=\"tanh\"),\n",
    "    keras.layers.Dense(25, activation=\"tanh\"),\n",
    "    keras.layers.Dense(12, activation=\"tanh\"),\n",
    "    keras.layers.Dense(1, activation=\"softmax\")\n",
    "])\n",
    "Model_Nuclear_half_life.compile(\n",
    "    optimizer=optimzer,\n",
    "    loss=mse,\n",
    "    metrics=['Accuracy']\n",
    ")\n",
    "Model_Nuclear_half_life.fit(tf.expand_dims(Tensor_array_tx, axis=1),Tensor_array_ty,epochs=10)\n",
    "Model_Nuclear_half_life.evaluate(Tensor_array_tex,Tensor_array_tey)"
   ]
  },
  {
   "cell_type": "markdown",
   "id": "2dc5fc30",
   "metadata": {},
   "source": [
    "def Function_HalfLife():\n",
    "    Half_life =(Kapa)/(Fnot*BGT)"
   ]
  }
 ],
 "metadata": {
  "kernelspec": {
   "display_name": "Python 3 (ipykernel)",
   "language": "python",
   "name": "python3"
  },
  "language_info": {
   "codemirror_mode": {
    "name": "ipython",
    "version": 3
   },
   "file_extension": ".py",
   "mimetype": "text/x-python",
   "name": "python",
   "nbconvert_exporter": "python",
   "pygments_lexer": "ipython3",
   "version": "3.11.4"
  }
 },
 "nbformat": 4,
 "nbformat_minor": 5
}
